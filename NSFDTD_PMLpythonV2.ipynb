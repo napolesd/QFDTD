{
 "cells": [
  {
   "cell_type": "code",
   "execution_count": 146,
   "metadata": {
    "collapsed": true
   },
   "outputs": [],
   "source": [
    "import numpy as np\n",
    "import matplotlib.pyplot as plt\n",
    "import pylab\n",
    "pylab.ion()"
   ]
  },
  {
   "cell_type": "code",
   "execution_count": 147,
   "metadata": {
    "collapsed": false
   },
   "outputs": [],
   "source": [
    "def Gaussian(x,t,sigma):\n",
    "    return np.exp(-(x-t)**2/(2*sigma**2))\n",
    "def free(npts):\n",
    "    return np.zeros(npts)\n",
    "def step(npts,v0):\n",
    "    v = free(npts)\n",
    "    v[npts/2:] = v0\n",
    "    return v\n",
    "def barrier(npts,v0,thickness):\n",
    "    v = free(npts)\n",
    "    v[npts/2:npts/2+thickness] = v0\n",
    "    return v\n",
    "def fillax(x,y,*args,**kw):\n",
    "    xx = np.concatenate((x,np.array([x[-1],x[0]],x.dtype)))\n",
    "    yy = np.concatenate((y,np.zeros(2,y.dtype)))\n",
    "    return pylab.fill(xx, yy, *args,**kw)"
   ]
  },
  {
   "cell_type": "code",
   "execution_count": 148,
   "metadata": {
    "collapsed": true
   },
   "outputs": [],
   "source": [
    "N    = 400     #  Number of spatial points.\n",
    "T    = 10000      #  Number of time steps.  5*N is a nice value for terminating\n",
    "                #  before anything reaches the boundaries.\n",
    "Tp   = 50       #  Number of time steps to increment before updating the plot."
   ]
  },
  {
   "cell_type": "markdown",
   "metadata": {},
   "source": [
    "$\\Delta$x en nm, m en kg y $\\hbar$ en J-s :"
   ]
  },
  {
   "cell_type": "code",
   "execution_count": 149,
   "metadata": {
    "collapsed": false
   },
   "outputs": [
    {
     "data": {
      "text/plain": [
       "1e-10"
      ]
     },
     "execution_count": 149,
     "metadata": {},
     "output_type": "execute_result"
    }
   ],
   "source": [
    "longitud=40e-9\n",
    "dx=longitud/N\n",
    "#dx   = 0.05e-9    #  Spatial resolution\n",
    "m    = 9.1e-31    #  Particle mass\n",
    "hbar = 1.054e-34    #  Plank's constant\n",
    "dx"
   ]
  },
  {
   "cell_type": "markdown",
   "metadata": {},
   "source": [
    "El espacio de simulación es de N*$\\Delta$x y el factor de conversión $eV2J=\\frac{1.602\\times10^{-19} J}{1eV}$"
   ]
  },
  {
   "cell_type": "code",
   "execution_count": 150,
   "metadata": {
    "collapsed": true
   },
   "outputs": [],
   "source": [
    "X    = dx*np.linspace(0,N,N)        #  Spatial axis.\n",
    "eV2J=1.6e-19"
   ]
  },
  {
   "cell_type": "code",
   "execution_count": 165,
   "metadata": {
    "collapsed": false
   },
   "outputs": [
    {
     "data": {
      "text/plain": [
       "17.0"
      ]
     },
     "execution_count": 165,
     "metadata": {},
     "output_type": "execute_result"
    }
   ],
   "source": [
    "V0   = 0.3   #  eV\n",
    "THCK = 15       # \"Thickness\" of the potential barrier (if appropriate\n",
    "                # V-function is chosen)\n",
    "POTENTIAL = 'step'\n",
    "energy=0.5#0.1\n",
    "#lambd=(1.2264609e-9)/np.sqrt(energy)\n",
    "lambd=(1.264609e-9)/np.sqrt(energy)\n",
    "lambd=int(lambd/dx)\n",
    "#lambd=70\n",
    "sigma = 0.5*lambd \n",
    "x0 = N/4\n",
    "dx\n",
    "lambd*dx*1e10"
   ]
  },
  {
   "cell_type": "code",
   "execution_count": 152,
   "metadata": {
    "collapsed": true
   },
   "outputs": [],
   "source": [
    "if POTENTIAL=='free':\n",
    "    V = free(N)\n",
    "elif POTENTIAL=='step':\n",
    "    V = step(N,V0)\n",
    "elif POTENTIAL=='barrier':\n",
    "    V = barrier(N,V0,THCK)\n",
    "else:\n",
    "    raise ValueError(\"Unrecognized potential type: %s\" % POTENTIAL)\n",
    "\n",
    "Vmax = V.max()            "
   ]
  },
  {
   "cell_type": "markdown",
   "metadata": {},
   "source": [
    "dt en segundos, c1=$\\frac{1}{8}$=$\\frac{\\Delta t}{\\Delta z^2}\\frac{\\hbar}{2m}$ y c2=$dt/\\hbar$ en J$^{-1}$"
   ]
  },
  {
   "cell_type": "code",
   "execution_count": 153,
   "metadata": {
    "collapsed": false
   },
   "outputs": [],
   "source": [
    "dt   = 0.25*(m/hbar)*dx**2# hbar/(2*hbar**2/(m*dx**2)+Vmax)        \n",
    "\n",
    "#c1=1.0/8.0\n",
    "#c2=dt/hbar\n",
    "arg=np.pi/(2*lambd)\n",
    "uns=np.sin( arg**2 )/np.sin( 2*arg )\n",
    "c1=0.5*uns/np.sin(2*arg)\n",
    "c2=2*uns*np.sin(2*arg)/np.abs(energy-V0)\n",
    "c2V  = c2*V"
   ]
  },
  {
   "cell_type": "code",
   "execution_count": 154,
   "metadata": {
    "collapsed": true
   },
   "outputs": [],
   "source": [
    "psi_r = np.zeros((3,N)) #  Real\n",
    "psi_i = np.zeros((3,N)) #  Imaginary\n",
    "psi_p = np.zeros(N,)   # Observable probability (magnitude-squared\n",
    "psi_rl = np.zeros(N,)\n",
    "psi_im = np.zeros(N,)    #  of the complex wave function).\n",
    "#  Temporal indexing constants, used for accessing rows of the wavefunctions.\n",
    "PA = 0                 #  Past\n",
    "PR = 1                 #  Present\n",
    "FU = 2                 #  Future"
   ]
  },
  {
   "cell_type": "markdown",
   "metadata": {},
   "source": [
    "$k_0=2\\pi/\\lambda$ aqui lambd esta en pixeles. x, x0 y sigma en pixeles."
   ]
  },
  {
   "cell_type": "code",
   "execution_count": 155,
   "metadata": {
    "collapsed": false
   },
   "outputs": [
    {
     "data": {
      "text/plain": [
       "0.99999999999999978"
      ]
     },
     "execution_count": 155,
     "metadata": {},
     "output_type": "execute_result"
    }
   ],
   "source": [
    "k0=2*np.pi/(lambd)\n",
    "xn = range(1,N)\n",
    "x = X[xn]/dx    #  Normalized position coordinate\n",
    "gg = Gaussian(x,x0,sigma)\n",
    "cx = np.cos(k0*(x-x0))\n",
    "sx = np.sin(k0*(x-x0))\n",
    "psi_rl = cx*gg\n",
    "psi_im = sx*gg\n",
    "#psi_r[PA,xn] = cx*gg\n",
    "#psi_i[PA,xn] = sx*gg\n",
    "# Initial normalization of wavefunctions\n",
    "#   Compute the observable probability.\n",
    "psi_p = psi_rl**2 + psi_im**2\n",
    "#  Normalize the wave functions so that the total probability in the simulation\n",
    "#  is equal to 1.\n",
    "P   =psi_p.sum()                      #  Total probability.\n",
    "nrm = np.sqrt(P)\n",
    "\n",
    "psi_rl /= nrm\n",
    "psi_im /= nrm\n",
    "psi_p = psi_rl**2 + psi_im**2\n",
    "P=psi_p.sum()\n",
    "P"
   ]
  },
  {
   "cell_type": "code",
   "execution_count": 156,
   "metadata": {
    "collapsed": false
   },
   "outputs": [
    {
     "data": {
      "text/plain": [
       "<matplotlib.legend.Legend at 0x7f85cecd4510>"
      ]
     },
     "execution_count": 156,
     "metadata": {},
     "output_type": "execute_result"
    },
    {
     "data": {
      "image/png": "[encoded data removed]",
      "text/plain": [
       "<matplotlib.figure.Figure at 0x7f85cee8a3d0>"
      ]
     },
     "metadata": {},
     "output_type": "display_data"
    }
   ],
   "source": [
    "pylab.figure()\n",
    "#xmin = X.min()\n",
    "#xmax = X.max()\n",
    "#ymax = 1.5*(psi_rl).max()\n",
    "#pylab.axis([xmin,xmax,-ymax,ymax])\n",
    "\n",
    "lineR, = pylab.plot(psi_rl,'b',alpha=0.7,label='Real')\n",
    "lineI, = pylab.plot(psi_im,'r',alpha=0.7,label='Imag')\n",
    "#lineP, = pylab.plot(X,10*psi_p,'k',label='Prob')\n",
    "#pylab.title('Potential height: %.2e' % V0)\n",
    "pylab.legend(loc='lower right')"
   ]
  },
  {
   "cell_type": "code",
   "execution_count": 157,
   "metadata": {
    "collapsed": false
   },
   "outputs": [],
   "source": [
    "IDX1 = range(1,N-1)                            #  psi [ k ]\n",
    "IDX2 = range(2,N)                              #  psi [ k + 1 ]\n",
    "IDX3 = range(0,N-2) "
   ]
  },
  {
   "cell_type": "code",
   "execution_count": 158,
   "metadata": {
    "collapsed": false
   },
   "outputs": [
    {
     "data": {
      "text/plain": [
       "397"
      ]
     },
     "execution_count": 158,
     "metadata": {},
     "output_type": "execute_result"
    }
   ],
   "source": [
    "gammar=np.ones(N-2,)\n",
    "gammai=np.zeros(N-2,)\n",
    "IDX3[N-3]\n",
    "#gamma_r=1.0\n",
    "#gamma_i=1.0"
   ]
  },
  {
   "cell_type": "markdown",
   "metadata": {},
   "source": [
    "kpml1=150\n",
    "kpml2=850\n",
    "R=(1,1)/sqrt(2.0)\n",
    "do k=1,ke\n",
    "if (k.le.kpml1) then\n",
    "sigma=0.00005*(k-kpml1)**2\n",
    "gammax=1.0/(1.0+R*sigma)**2\n",
    "gammar(k)=real(gammax)\n",
    "gammai(k)=imag(gammax)\n",
    "elseif (k.ge.kpml2) then\n",
    "sigma=0.00005*(k-kpml2)**2\n",
    "gammax=1.0/(1.0+R*sigma)**2\n",
    "gammar(k)=real(gammax)\n",
    "gammai(k)=imag(gammax)\n",
    "else\n",
    "gammar(k)=1.0\n",
    "gammai(k)=0.0\n",
    "endif\n",
    "print*,k,gammar(k),gammai(k)\n",
    "enddo\n"
   ]
  },
  {
   "cell_type": "code",
   "execution_count": 159,
   "metadata": {
    "code_folding": [],
    "collapsed": false
   },
   "outputs": [
    {
     "data": {
      "image/png": "[encoded data removed]",
      "text/plain": [
       "<matplotlib.figure.Figure at 0x7f85d2e9edd0>"
      ]
     },
     "metadata": {},
     "output_type": "display_data"
    }
   ],
   "source": [
    "kpml1=50\n",
    "R=(1+1j)/np.sqrt(2)\n",
    "for k in range(kpml1):\n",
    "#    if k<kpml1:\n",
    "    fac=5e-4\n",
    "    sigma=fac*(k-kpml1)**2\n",
    "    gammax=1.0/(1.0+R*sigma)**2\n",
    "    gammar[k]=gammax.real\n",
    "    gammai[k]=gammax.imag\n",
    "    sigma=fac*(k-kpml1)**2\n",
    "    gammax=1.0/(1.0+R*sigma)**2\n",
    "    gammar[N-k-3]=gammax.real\n",
    "    gammai[N-k-3]=gammax.imag\n",
    "#gamma_r=np.ones(N-2,)\n",
    "#gamma_i=np.zeros(N-2,)\n",
    "pylab.plot(X[IDX3],gammar)\n",
    "pylab.plot(X[IDX3],gammai)\n",
    "gammax=0.0"
   ]
  },
  {
   "cell_type": "code",
   "execution_count": 160,
   "metadata": {
    "collapsed": false
   },
   "outputs": [],
   "source": [
    "for t in range(T+1):\n",
    "    for k in range(1,N-2):\n",
    "        deltai=psi_im[k+1]-2.0*psi_im[k]+psi_im[k-1]\n",
    "        deltar=psi_rl[k+1]-2.0*psi_rl[k] + psi_rl[k-1]\n",
    "        psi_rl[k]=psi_rl[k]-c1*(gammar[k]*deltai+gammai[k]*deltar)+c2V[k]*psi_im[k]\n",
    "\n",
    "\n",
    "\n",
    "    for k in range(1,N-2):\n",
    "        deltar=psi_rl[k+1]-2.0*psi_rl[k] + psi_rl[k-1]\n",
    "        deltai=psi_im[k+1]-2.0*psi_im[k]+psi_im[k-1]\n",
    "        psi_im[k]=psi_im[k]+c1*( gammar[k]*deltar-gammai[k]*deltai )- c2V[k]*psi_rl[k]"
   ]
  },
  {
   "cell_type": "code",
   "execution_count": 161,
   "metadata": {
    "collapsed": false
   },
   "outputs": [
    {
     "data": {
      "image/png": "[encoded data removed]",
      "text/plain": [
       "<matplotlib.figure.Figure at 0x7f85cec83ed0>"
      ]
     },
     "metadata": {},
     "output_type": "display_data"
    }
   ],
   "source": [
    "from pylab import rcParams\n",
    "rcParams['figure.figsize'] = 6, 3\n",
    "pylab.figure()\n",
    "#xmin = X.min()\n",
    "#xmax = X.max()\n",
    "ymax = 1.5*(psi_r[PR]).max()\n",
    "\n",
    "pylab.axis([0,40,-0.24,0.4])\n",
    "\n",
    "time=t*dt*1e15\n",
    "pylab.title('time: %.3f'' fs' %time)\n",
    "\n",
    "\n",
    "#if Vmax !=0 :\n",
    "    # Scaling factor for energies, so they fit in the same plot as the\n",
    "    # wavefunctions\n",
    "Efac = ymax\n",
    "V_1 = V[0:N-1]\n",
    "pm=V[N-50:N-1]\n",
    "pylab.plot(X[0:N-1]*1e9,V_1,'black',lw=2)   #  Potential line.\n",
    "lineR, = pylab.plot(X[0:N-1]*1e9,psi_rl,'-',alpha=1,label='Real',color='black')\n",
    "lineI, = pylab.plot(X[0:N-1]*1e9,psi_im,'--',alpha=1,label='Imag',color='black')\n",
    "fillax(X[N-50:N-1]*1e9,pm, facecolor='black', alpha=0.2,zorder=0)\n",
    "pm2=V[0:50]\n",
    "pm2[0:50]=V0\n",
    "fillax(X[0:50]*1e9,pm2, facecolor='black', alpha=0.2,zorder=0)\n",
    "\n",
    "#pylab.plot(X[150:N-50]*1e9,pm2,'black',lw=2)   #  Potential line.\n",
    "    # Plot the wavefunction energy, in the same scale as the potential\n",
    "    #pylab.axhline(E*Efac,color='g',label='Energy',zorder=1)\n",
    "pylab.legend(loc='lower right')\n",
    "pylab.xlabel('x [nm]',fontsize=15)\n",
    "pylab.annotate('PMLs',xy=(343, 140), xycoords='figure points')\n",
    "pylab.annotate('PMLs',xy=(45, 140), xycoords='figure points')\n",
    "pylab.draw()\n",
    "#pylab.xlim(xmin,xmax)\n",
    "pylab.savefig('wave.pdf', dpi=300,bbox_inches='tight')\n",
    "    "
   ]
  },
  {
   "cell_type": "markdown",
   "metadata": {},
   "source": [
    "# ok"
   ]
  },
  {
   "cell_type": "code",
   "execution_count": 162,
   "metadata": {
    "collapsed": false
   },
   "outputs": [
    {
     "data": {
      "text/plain": [
       "0.0"
      ]
     },
     "execution_count": 162,
     "metadata": {},
     "output_type": "execute_result"
    }
   ],
   "source": [
    "mod2Psi=psi_r[PR]**2+psi_i[PR]**2\n",
    "POT=V*mod2Psi\n",
    "PE=POT.sum()\n",
    "PE"
   ]
  },
  {
   "cell_type": "markdown",
   "metadata": {},
   "source": [
    "Calculo de energía cinética. $KE=-\\frac{\\hbar^2}{2m}\\frac{\\partial^2}{\\partial x^2}$.\n",
    "Definimos: Lap_$\\psi$=$\\psi(k+1)-2\\psi(k)+\\psi(k-1)$. Luego, $<KE>=-\\frac{(\\hbar/\\Delta x)^2}{2m}\\sum \\psi^* Lap_\\psi$"
   ]
  },
  {
   "cell_type": "code",
   "execution_count": 163,
   "metadata": {
    "collapsed": false
   },
   "outputs": [
    {
     "ename": "NameError",
     "evalue": "name 'KE' is not defined",
     "output_type": "error",
     "traceback": [
      "\u001b[0;31m---------------------------------------------------------------------------\u001b[0m",
      "\u001b[0;31mNameError\u001b[0m                                 Traceback (most recent call last)",
      "\u001b[0;32m<ipython-input-163-ffdde7e223a7>\u001b[0m in \u001b[0;36m<module>\u001b[0;34m()\u001b[0m\n\u001b[1;32m      5\u001b[0m \u001b[0;31m#PE=POT2.sum()\u001b[0m\u001b[0;34m\u001b[0m\u001b[0;34m\u001b[0m\u001b[0m\n\u001b[1;32m      6\u001b[0m \u001b[0mLap\u001b[0m\u001b[0;34m[\u001b[0m\u001b[0;36m1\u001b[0m\u001b[0;34m+\u001b[0m\u001b[0;36m2\u001b[0m\u001b[0;34m:\u001b[0m\u001b[0mN\u001b[0m\u001b[0;34m-\u001b[0m\u001b[0;36m1\u001b[0m\u001b[0;34m-\u001b[0m\u001b[0;36m2\u001b[0m\u001b[0;34m]\u001b[0m\u001b[0;34m=\u001b[0m\u001b[0mpsi\u001b[0m\u001b[0;34m[\u001b[0m\u001b[0;36m2\u001b[0m\u001b[0;34m+\u001b[0m\u001b[0;36m2\u001b[0m\u001b[0;34m:\u001b[0m\u001b[0mN\u001b[0m\u001b[0;34m-\u001b[0m\u001b[0;36m2\u001b[0m\u001b[0;34m]\u001b[0m \u001b[0;34m-\u001b[0m \u001b[0;36m2\u001b[0m\u001b[0;34m*\u001b[0m\u001b[0mpsi\u001b[0m\u001b[0;34m[\u001b[0m\u001b[0;36m1\u001b[0m\u001b[0;34m+\u001b[0m\u001b[0;36m2\u001b[0m\u001b[0;34m:\u001b[0m\u001b[0mN\u001b[0m\u001b[0;34m-\u001b[0m\u001b[0;36m1\u001b[0m\u001b[0;34m-\u001b[0m\u001b[0;36m2\u001b[0m\u001b[0;34m]\u001b[0m \u001b[0;34m+\u001b[0m \u001b[0mpsi\u001b[0m\u001b[0;34m[\u001b[0m\u001b[0;36m0\u001b[0m\u001b[0;34m+\u001b[0m\u001b[0;36m2\u001b[0m\u001b[0;34m:\u001b[0m\u001b[0mN\u001b[0m\u001b[0;34m-\u001b[0m\u001b[0;36m2\u001b[0m\u001b[0;34m-\u001b[0m\u001b[0;36m2\u001b[0m\u001b[0;34m]\u001b[0m\u001b[0;34m\u001b[0m\u001b[0m\n\u001b[0;32m----> 7\u001b[0;31m \u001b[0mKE\u001b[0m\u001b[0;34m[\u001b[0m\u001b[0;36m1\u001b[0m\u001b[0;34m+\u001b[0m\u001b[0;36m2\u001b[0m\u001b[0;34m:\u001b[0m\u001b[0mN\u001b[0m\u001b[0;34m-\u001b[0m\u001b[0;36m1\u001b[0m\u001b[0;34m-\u001b[0m\u001b[0;36m2\u001b[0m\u001b[0;34m]\u001b[0m\u001b[0;34m=\u001b[0m\u001b[0mLap\u001b[0m\u001b[0;34m[\u001b[0m\u001b[0;36m1\u001b[0m\u001b[0;34m+\u001b[0m\u001b[0;36m2\u001b[0m\u001b[0;34m:\u001b[0m\u001b[0mN\u001b[0m\u001b[0;34m-\u001b[0m\u001b[0;36m1\u001b[0m\u001b[0;34m-\u001b[0m\u001b[0;36m2\u001b[0m\u001b[0;34m]\u001b[0m\u001b[0;34m*\u001b[0m\u001b[0mpsic\u001b[0m\u001b[0;34m[\u001b[0m\u001b[0;36m1\u001b[0m\u001b[0;34m+\u001b[0m\u001b[0;36m2\u001b[0m\u001b[0;34m:\u001b[0m\u001b[0mN\u001b[0m\u001b[0;34m-\u001b[0m\u001b[0;36m1\u001b[0m\u001b[0;34m-\u001b[0m\u001b[0;36m2\u001b[0m\u001b[0;34m]\u001b[0m\u001b[0;34m\u001b[0m\u001b[0m\n\u001b[0m\u001b[1;32m      8\u001b[0m \u001b[0mkinet\u001b[0m\u001b[0;34m=\u001b[0m\u001b[0mKE\u001b[0m\u001b[0;34m.\u001b[0m\u001b[0msum\u001b[0m\u001b[0;34m(\u001b[0m\u001b[0;34m)\u001b[0m\u001b[0;34m.\u001b[0m\u001b[0mreal\u001b[0m\u001b[0;34m\u001b[0m\u001b[0m\n\u001b[1;32m      9\u001b[0m \u001b[0mJ2eV\u001b[0m\u001b[0;34m=\u001b[0m\u001b[0;36m1.0\u001b[0m\u001b[0;34m/\u001b[0m\u001b[0meV2J\u001b[0m\u001b[0;34m\u001b[0m\u001b[0m\n",
      "\u001b[0;31mNameError\u001b[0m: name 'KE' is not defined"
     ]
    }
   ],
   "source": [
    "Lap = np.zeros(N,)+1j*np.zeros(N,)\n",
    "psi=psi_rl+1j*psi_im\n",
    "psic=psi_rl-1j*psi_im\n",
    "#POT2=psi*psic*V\n",
    "#PE=POT2.sum()\n",
    "Lap[1+2:N-1-2]=psi[2+2:N-2] - 2*psi[1+2:N-1-2] + psi[0+2:N-2-2]\n",
    "KE[1+2:N-1-2]=Lap[1+2:N-1-2]*psic[1+2:N-1-2]\n",
    "kinet=KE.sum().real\n",
    "J2eV=1.0/eV2J\n",
    "kinet=-J2eV*kinet*(hbar/dx)**2/(2*m)\n",
    "kinet"
   ]
  },
  {
   "cell_type": "code",
   "execution_count": null,
   "metadata": {
    "collapsed": false
   },
   "outputs": [],
   "source": [
    "PE+kinet"
   ]
  },
  {
   "cell_type": "code",
   "execution_count": null,
   "metadata": {
    "collapsed": true
   },
   "outputs": [],
   "source": [
    "\n",
    "IDX1 = range(1,N-1)                            #  psi [ k ]\n",
    "IDX2 = range(2,N)                              #  psi [ k + 1 ]\n",
    "IDX3 = range(0,N-2) "
   ]
  },
  {
   "cell_type": "code",
   "execution_count": null,
   "metadata": {
    "collapsed": true
   },
   "outputs": [],
   "source": []
  }
 ],
 "metadata": {
  "kernelspec": {
   "display_name": "Python 2",
   "language": "python",
   "name": "python2"
  },
  "language_info": {
   "codemirror_mode": {
    "name": "ipython",
    "version": 2
   },
   "file_extension": ".py",
   "mimetype": "text/x-python",
   "name": "python",
   "nbconvert_exporter": "python",
   "pygments_lexer": "ipython2",
   "version": "2.7.13"
  }
 },
 "nbformat": 4,
 "nbformat_minor": 2
}
