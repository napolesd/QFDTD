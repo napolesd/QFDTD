{
 "cells": [
  {
   "cell_type": "code",
   "execution_count": 17,
   "metadata": {
    "collapsed": false
   },
   "outputs": [],
   "source": [
    "import numpy as np\n",
    "import pylab\n",
    "import matplotlib.pyplot as plt"
   ]
  },
  {
   "cell_type": "code",
   "execution_count": 18,
   "metadata": {
    "collapsed": true
   },
   "outputs": [],
   "source": [
    "pylab.ion()"
   ]
  },
  {
   "cell_type": "code",
   "execution_count": 19,
   "metadata": {
    "collapsed": true
   },
   "outputs": [],
   "source": [
    "N    = 100     #  Number of spatial points.\n",
    "T    = 2      #  Number of time steps.  5*N is a nice value for terminating\n",
    "                #  before anything reaches the boundaries.\n",
    "Tp   = 50       #  Number of time steps to increment before updating the plot.\n",
    "\n",
    "#X    = dx*np.linspace(0,N,N)        #  Spatial axis.\n",
    "# Potential parameters.  By playing with the type of potential and the height\n",
    "# and thickness (for barriers), you'll see the various transmission/reflection\n",
    "# regimes of quantum mechanical tunneling.\n",
    "V0   = 1.0e-2   #  Potential amplitude (used for steps and barriers)\n",
    "THCK = 15       # \"Thickness\" of the potential barrier (if appropriate\n",
    "                # V-function is chosen)\n",
    "# Uncomment the potential type you want to use here:\n",
    "# Zero potential, packet propagates freely.\n",
    "#POTENTIAL = 'free'\n",
    "# Potential step.  The height (V0) of the potential chosen above will determine\n",
    "# the amount of reflection/transmission you'll observe\n",
    "POTENTIAL = 'step'\n",
    "# Potential barrier.  Note that BOTH the potential height (V0) and thickness\n",
    "# of the barrier (THCK) affect the amount of tunneling vs reflection you'll\n",
    "# observe.\n",
    "#POTENTIAL = 'barrier'\n",
    "#  Initial wave function constants\n",
    "sigma = 40.0 # Standard deviation on the Gaussian envelope (remember Heisenberg\n",
    "             #  uncertainty).\n",
    "x0 = round(N/2) - 5*sigma # Time shift\n",
    "k0 = np.pi/20 # Wavenumber (note that energy is a function of k)\n",
    "# Energy for a localized gaussian wavepacket interacting with a localized\n",
    "# potential (so the interaction term can be neglected by computing the energy\n",
    "# integral over a region where V=0)\n",
    "#E = (hbar**2/2.0/m)*(k0**2+0.5/sigma**2)"
   ]
  },
  {
   "cell_type": "code",
   "execution_count": 20,
   "metadata": {
    "collapsed": true
   },
   "outputs": [],
   "source": [
    "longitud=40e-9\n",
    "dx=longitud/N\n",
    "#dx   = 0.05e-9    #  Spatial resolution\n",
    "m    = 9.1e-31    #  Particle mass\n",
    "hbar = 1.054e-34    #  Plank's constant\n",
    "dt   = 0.25*(m/hbar)*dx**2# hbar/(2*hbar**2/(m*dx**2)+Vmax)        \n",
    "\n",
    "c1=1.0/8.0\n",
    "c2=dt/hbar\n",
    "lmbda=5*dx"
   ]
  },
  {
   "cell_type": "code",
   "execution_count": 21,
   "metadata": {
    "collapsed": false
   },
   "outputs": [
    {
     "name": "stdout",
     "output_type": "stream",
     "text": [
      "One-dimensional Schrodinger equation - time evolution\n",
      "Wavepacket energy:   "
     ]
    },
    {
     "ename": "NameError",
     "evalue": "name 'E' is not defined",
     "output_type": "error",
     "traceback": [
      "\u001b[0;31m---------------------------------------------------------------------------\u001b[0m",
      "\u001b[0;31mNameError\u001b[0m                                 Traceback (most recent call last)",
      "\u001b[0;32m<ipython-input-21-72fd8b7fdc59>\u001b[0m in \u001b[0;36m<module>\u001b[0;34m()\u001b[0m\n\u001b[1;32m      1\u001b[0m \u001b[0;32mprint\u001b[0m \u001b[0;34m'One-dimensional Schrodinger equation - time evolution'\u001b[0m\u001b[0;34m\u001b[0m\u001b[0m\n\u001b[0;32m----> 2\u001b[0;31m \u001b[0;32mprint\u001b[0m \u001b[0;34m'Wavepacket energy:   '\u001b[0m\u001b[0;34m,\u001b[0m\u001b[0mE\u001b[0m\u001b[0;34m\u001b[0m\u001b[0m\n\u001b[0m\u001b[1;32m      3\u001b[0m \u001b[0;32mprint\u001b[0m \u001b[0;34m'Potential type:      '\u001b[0m\u001b[0;34m,\u001b[0m\u001b[0mPOTENTIAL\u001b[0m\u001b[0;34m\u001b[0m\u001b[0m\n\u001b[1;32m      4\u001b[0m \u001b[0;32mprint\u001b[0m \u001b[0;34m'Potential height V0: '\u001b[0m\u001b[0;34m,\u001b[0m\u001b[0mV0\u001b[0m\u001b[0;34m\u001b[0m\u001b[0m\n\u001b[1;32m      5\u001b[0m \u001b[0;32mprint\u001b[0m \u001b[0;34m'Barrier thickness:   '\u001b[0m\u001b[0;34m,\u001b[0m\u001b[0mTHCK\u001b[0m\u001b[0;34m\u001b[0m\u001b[0m\n",
      "\u001b[0;31mNameError\u001b[0m: name 'E' is not defined"
     ]
    }
   ],
   "source": [
    "print 'One-dimensional Schrodinger equation - time evolution'\n",
    "print 'Wavepacket energy:   ',E\n",
    "print 'Potential type:      ',POTENTIAL\n",
    "print 'Potential height V0: ',V0\n",
    "print 'Barrier thickness:   ',THCK"
   ]
  },
  {
   "cell_type": "code",
   "execution_count": 22,
   "metadata": {
    "collapsed": false
   },
   "outputs": [
    {
     "name": "stdout",
     "output_type": "stream",
     "text": [
      "\n"
     ]
    }
   ],
   "source": [
    "psi_r = np.zeros((N,N)) #  Real\n",
    "psi_i = np.zeros((N,N)) #  Imaginary\n",
    "psi_p = np.zeros((N,N))   # Observable probability (magnitude-squared\n",
    "\n"
   ]
  },
  {
   "cell_type": "code",
   "execution_count": 23,
   "metadata": {
    "collapsed": false
   },
   "outputs": [],
   "source": [
    "for i in range(1,N-1):\n",
    "    for j in range(1,N-1):\n",
    "        psi_r[i][j]=np.exp((-1.*(i-N/2)/sigma)**2)*np.cos(2*np.pi*(i-N/2)/lmbda)*np.sin(np.pi*(j)/N)\n",
    "        psi_i[i][j]=np.exp((-1.*(i-N/2)/sigma)**2)*np.sin(2*np.pi*(i-N/2)/lmbda)*np.sin(np.pi*(j)/N)"
   ]
  },
  {
   "cell_type": "code",
   "execution_count": 24,
   "metadata": {
    "collapsed": false
   },
   "outputs": [],
   "source": [
    "for t in range(T+1):\n",
    "        for i in range(1,N-1):\n",
    "            for j in range(1,N-1):\n",
    "                psi_r[i][j]=psi_r[i][j]-c1*( psi_i[i+1][j]+psi_i[i-1][j]+psi_i[i][j+1]+psi_i[i][j-1]-4*psi_i[i][j] )\n",
    "                psi_i[i][j]=psi_i[i][j]+c1*( psi_r[i+1][j]+psi_r[i-1][j]+psi_r[i][j+1]+psi_r[i][j-1]-4*psi_r[i][j] )"
   ]
  },
  {
   "cell_type": "code",
   "execution_count": 25,
   "metadata": {
    "collapsed": false
   },
   "outputs": [
    {
     "data": {
      "text/plain": [
       "<matplotlib.image.AxesImage at 0x7ff3afa50290>"
      ]
     },
     "execution_count": 25,
     "metadata": {},
     "output_type": "execute_result"
    },
    {
     "data": {
      "image/png": "[encoded data removed]",
      "text/plain": [
       "<matplotlib.figure.Figure at 0x7ff3b2eaa550>"
      ]
     },
     "metadata": {},
     "output_type": "display_data"
    }
   ],
   "source": [
    "fig = plt.figure(figsize=(6, 3.2))\n",
    "plt.imshow(psi_r)"
   ]
  },
  {
   "cell_type": "code",
   "execution_count": 26,
   "metadata": {
    "collapsed": false
   },
   "outputs": [
    {
     "data": {
      "text/plain": [
       "array([[ 0.        ,  0.        ,  0.        , ...,  0.        ,\n",
       "         0.        ,  0.        ],\n",
       "       [ 0.        ,  0.12878569,  0.26078192, ...,  0.4119027 ,\n",
       "         0.24873491,  0.        ],\n",
       "       [ 0.        ,  0.14352429,  0.28982643, ...,  0.44723355,\n",
       "         0.28513558,  0.        ],\n",
       "       ..., \n",
       "       [ 0.        ,  0.13083582,  0.26275055, ...,  0.40165561,\n",
       "         0.25764796,  0.        ],\n",
       "       [ 0.        ,  0.12120194,  0.2454174 , ...,  0.38859551,\n",
       "         0.23749277,  0.        ],\n",
       "       [ 0.        ,  0.        ,  0.        , ...,  0.        ,\n",
       "         0.        ,  0.        ]])"
      ]
     },
     "execution_count": 26,
     "metadata": {},
     "output_type": "execute_result"
    }
   ],
   "source": [
    "psi_r"
   ]
  },
  {
   "cell_type": "code",
   "execution_count": null,
   "metadata": {
    "collapsed": true
   },
   "outputs": [],
   "source": []
  }
 ],
 "metadata": {
  "kernelspec": {
   "display_name": "Python 2",
   "language": "python",
   "name": "python2"
  },
  "language_info": {
   "codemirror_mode": {
    "name": "ipython",
    "version": 2
   },
   "file_extension": ".py",
   "mimetype": "text/x-python",
   "name": "python",
   "nbconvert_exporter": "python",
   "pygments_lexer": "ipython2",
   "version": "2.7.13"
  }
 },
 "nbformat": 4,
 "nbformat_minor": 2
}
